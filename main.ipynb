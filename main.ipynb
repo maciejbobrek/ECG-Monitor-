{
 "cells": [
  {
   "cell_type": "code",
   "execution_count": 14,
   "metadata": {},
   "outputs": [],
   "source": [
    "import os\n",
    "import scipy.io\n",
    "import pandas as pd\n",
    "import numpy as np\n",
    "\n",
    "# # Path to your directory containing .mat files\n",
    "# data_dir = './data/'\n",
    "\n",
    "# file_names = []\n",
    "# data_values = []\n",
    "\n",
    "# for file_name in os.listdir(data_dir):\n",
    "#     if file_name.endswith('.mat'):\n",
    "#         # Append file name to list\n",
    "#         file_names.append(file_name)\n",
    "        \n",
    "#         # Load .mat file\n",
    "#         mat_data = scipy.io.loadmat(os.path.join(data_dir, file_name))\n",
    "        \n",
    "#         # Assuming each file contains a single array of 1x9000 double values\n",
    "#         # Append data to list\n",
    "#         data_values.append(mat_data['val'].flatten())\n",
    "        \n",
    "# df = pd.DataFrame({'File_Name': file_names, 'Data': data_values})"
   ]
  },
  {
   "cell_type": "code",
   "execution_count": 15,
   "metadata": {},
   "outputs": [],
   "source": [
    "# outcome=pd.read_csv(\"REFERENCE-original.csv\")\n",
    "# df['File_Name'] = df['File_Name'].str.replace('.mat', '')\n",
    "# df_merged = pd.merge(df, outcome, left_on='File_Name', right_on='File_Name', how='left')\n",
    "# df_merged"
   ]
  },
  {
   "cell_type": "code",
   "execution_count": 17,
   "metadata": {},
   "outputs": [
    {
     "name": "stdout",
     "output_type": "stream",
     "text": [
      "     File_Name                                               Data outcome\n",
      "0       A00001  [-127.0, -162.0, -197.0, -229.0, -245.0, -254....       N\n",
      "1       A00002  [128.0, 157.0, 189.0, 226.0, 250.0, 257.0, 262...       N\n",
      "2       A00003  [56.0, 73.0, 85.0, 93.0, 100.0, 107.0, 113.0, ...       N\n",
      "3       A00004  [519.0, 619.0, 723.0, 827.0, 914.0, 956.0, 955...       A\n",
      "4       A00005  [-188.0, -239.0, -274.0, -316.0, -356.0, -374....       O\n",
      "...        ...                                                ...     ...\n",
      "8523    A08524  [-104.0, -127.0, -144.0, -154.0, -160.0, -164....       N\n",
      "8524    A08525  [-121.0, -197.0, -288.0, -390.0, -496.0, -600....       O\n",
      "8525    A08526  [-202.0, -235.0, -272.0, -305.0, -325.0, -339....       N\n",
      "8526    A08527  [-227.0, -297.0, -374.0, -449.0, -505.0, -527....       N\n",
      "8527    A08528  [-237.0, -286.0, -338.0, -390.0, -425.0, -437....       N\n",
      "\n",
      "[8528 rows x 3 columns]\n"
     ]
    }
   ],
   "source": [
    "df_loaded = pd.read_csv('merged_dataframe.csv')\n",
    "\n",
    "# Convert the string representation of arrays back to arrays\n",
    "df_loaded['Data'] = df_loaded['Data'].apply(lambda x: np.fromstring(x, sep=', '))\n",
    "\n",
    "# Display the loaded DataFrame\n",
    "print(df_loaded)"
   ]
  },
  {
   "cell_type": "code",
   "execution_count": null,
   "metadata": {},
   "outputs": [],
   "source": [
    "df=df_loaded"
   ]
  },
  {
   "cell_type": "code",
   "execution_count": null,
   "metadata": {},
   "outputs": [],
   "source": [
    "from sklearn.model_selection import train_test_split\n",
    "from sklearn.linear_model import LogisticRegression\n",
    "from sklearn.metrics import accuracy_score\n",
    "\n",
    "\n"
   ]
  },
  {
   "cell_type": "code",
   "execution_count": 27,
   "metadata": {},
   "outputs": [],
   "source": [
    "from sklearn.preprocessing import StandardScaler\n",
    "from tensorflow.keras.preprocessing.sequence import pad_sequences\n",
    "from sklearn.ensemble import RandomForestClassifier\n",
    "\n",
    "\n",
    "df = df[df['Data'].apply(len) == 9000]\n",
    "\n",
    "X = np.array(df[\"Data\"])\n",
    "y = np.array(df[\"outcome\"])\n",
    "\n",
    "X_padded=np.vstack(X)\n",
    "\n",
    "\n",
    "\n"
   ]
  },
  {
   "cell_type": "code",
   "execution_count": 28,
   "metadata": {},
   "outputs": [
    {
     "name": "stdout",
     "output_type": "stream",
     "text": [
      "Accuracy: 0.5820235756385069\n"
     ]
    }
   ],
   "source": [
    "\n",
    "# Split the dataset into training and testing sets (70/30 split)\n",
    "X_train, X_test, y_train, y_test = train_test_split(X_padded, y, test_size=0.3, random_state=42)\n",
    "\n",
    "scaler = StandardScaler()\n",
    "\n",
    "X_train_scaled = scaler.fit_transform(X_train)\n",
    "\n",
    "# Transform the test data using the same scaler\n",
    "X_test_scaled = scaler.transform(X_test)\n",
    "\n",
    "# Train the logistic regression model\n",
    "model = RandomForestClassifier(random_state=42)\n",
    "model.fit(X_train_scaled, y_train)  \n",
    "# Make predictions on the testing set\n",
    "y_pred = model.predict(X_test_scaled)\n",
    "\n",
    "# Calculate accuracy\n",
    "accuracy = accuracy_score(y_test, y_pred)\n",
    "print(\"Accuracy:\", accuracy)\n"
   ]
  }
 ],
 "metadata": {
  "kernelspec": {
   "display_name": "Python 3",
   "language": "python",
   "name": "python3"
  },
  "language_info": {
   "codemirror_mode": {
    "name": "ipython",
    "version": 3
   },
   "file_extension": ".py",
   "mimetype": "text/x-python",
   "name": "python",
   "nbconvert_exporter": "python",
   "pygments_lexer": "ipython3",
   "version": "3.11.1"
  }
 },
 "nbformat": 4,
 "nbformat_minor": 2
}
